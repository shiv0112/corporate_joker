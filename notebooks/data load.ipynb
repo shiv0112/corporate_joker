{
 "cells": [
  {
   "cell_type": "code",
   "execution_count": 108,
   "metadata": {},
   "outputs": [],
   "source": [
    "import numpy as np\n",
    "import pandas as pd"
   ]
  },
  {
   "cell_type": "code",
   "execution_count": 109,
   "metadata": {},
   "outputs": [],
   "source": [
    "df =pd.read_csv(\"https://raw.githubusercontent.com/amoudgl/short-jokes-dataset/master/shortjokes.csv\")"
   ]
  },
  {
   "cell_type": "code",
   "execution_count": 110,
   "metadata": {},
   "outputs": [
    {
     "data": {
      "text/html": [
       "<div>\n",
       "<style scoped>\n",
       "    .dataframe tbody tr th:only-of-type {\n",
       "        vertical-align: middle;\n",
       "    }\n",
       "\n",
       "    .dataframe tbody tr th {\n",
       "        vertical-align: top;\n",
       "    }\n",
       "\n",
       "    .dataframe thead th {\n",
       "        text-align: right;\n",
       "    }\n",
       "</style>\n",
       "<table border=\"1\" class=\"dataframe\">\n",
       "  <thead>\n",
       "    <tr style=\"text-align: right;\">\n",
       "      <th></th>\n",
       "      <th>ID</th>\n",
       "      <th>Joke</th>\n",
       "    </tr>\n",
       "  </thead>\n",
       "  <tbody>\n",
       "    <tr>\n",
       "      <th>0</th>\n",
       "      <td>1</td>\n",
       "      <td>[me narrating a documentary about narrators] \"...</td>\n",
       "    </tr>\n",
       "    <tr>\n",
       "      <th>1</th>\n",
       "      <td>2</td>\n",
       "      <td>Telling my daughter garlic is good for you. Go...</td>\n",
       "    </tr>\n",
       "    <tr>\n",
       "      <th>2</th>\n",
       "      <td>3</td>\n",
       "      <td>I've been going through a really rough period ...</td>\n",
       "    </tr>\n",
       "    <tr>\n",
       "      <th>3</th>\n",
       "      <td>4</td>\n",
       "      <td>If I could have dinner with anyone, dead or al...</td>\n",
       "    </tr>\n",
       "    <tr>\n",
       "      <th>4</th>\n",
       "      <td>5</td>\n",
       "      <td>Two guys walk into a bar. The third guy ducks.</td>\n",
       "    </tr>\n",
       "    <tr>\n",
       "      <th>...</th>\n",
       "      <td>...</td>\n",
       "      <td>...</td>\n",
       "    </tr>\n",
       "    <tr>\n",
       "      <th>231652</th>\n",
       "      <td>231653</td>\n",
       "      <td>The Spicy Sausage by Delia Katessen</td>\n",
       "    </tr>\n",
       "    <tr>\n",
       "      <th>231653</th>\n",
       "      <td>231654</td>\n",
       "      <td>TIL That I Shouldn't have gone to law school, ...</td>\n",
       "    </tr>\n",
       "    <tr>\n",
       "      <th>231654</th>\n",
       "      <td>231655</td>\n",
       "      <td>What did the RAM stick say to the politician? ...</td>\n",
       "    </tr>\n",
       "    <tr>\n",
       "      <th>231655</th>\n",
       "      <td>231656</td>\n",
       "      <td>what do you call a play about victorian era me...</td>\n",
       "    </tr>\n",
       "    <tr>\n",
       "      <th>231656</th>\n",
       "      <td>231657</td>\n",
       "      <td>Calculus should be taught in every high school...</td>\n",
       "    </tr>\n",
       "  </tbody>\n",
       "</table>\n",
       "<p>231657 rows × 2 columns</p>\n",
       "</div>"
      ],
      "text/plain": [
       "            ID                                               Joke\n",
       "0            1  [me narrating a documentary about narrators] \"...\n",
       "1            2  Telling my daughter garlic is good for you. Go...\n",
       "2            3  I've been going through a really rough period ...\n",
       "3            4  If I could have dinner with anyone, dead or al...\n",
       "4            5     Two guys walk into a bar. The third guy ducks.\n",
       "...        ...                                                ...\n",
       "231652  231653                The Spicy Sausage by Delia Katessen\n",
       "231653  231654  TIL That I Shouldn't have gone to law school, ...\n",
       "231654  231655  What did the RAM stick say to the politician? ...\n",
       "231655  231656  what do you call a play about victorian era me...\n",
       "231656  231657  Calculus should be taught in every high school...\n",
       "\n",
       "[231657 rows x 2 columns]"
      ]
     },
     "execution_count": 110,
     "metadata": {},
     "output_type": "execute_result"
    }
   ],
   "source": [
    "df"
   ]
  },
  {
   "cell_type": "code",
   "execution_count": 111,
   "metadata": {},
   "outputs": [
    {
     "data": {
      "text/plain": [
       "ID       int64\n",
       "Joke    object\n",
       "dtype: object"
      ]
     },
     "execution_count": 111,
     "metadata": {},
     "output_type": "execute_result"
    }
   ],
   "source": [
    "df.dtypes"
   ]
  },
  {
   "cell_type": "code",
   "execution_count": 112,
   "metadata": {},
   "outputs": [
    {
     "name": "stdout",
     "output_type": "stream",
     "text": [
      "Requirement already satisfied: pyjokes in d:\\anaconda\\lib\\site-packages (0.6.0)\n",
      "Note: you may need to restart the kernel to use updated packages.\n"
     ]
    }
   ],
   "source": [
    "pip install pyjokes"
   ]
  },
  {
   "cell_type": "code",
   "execution_count": 113,
   "metadata": {},
   "outputs": [
    {
     "name": "stdout",
     "output_type": "stream",
     "text": [
      "Complaining about the lack of smoking shelters, the nicotine addicted Python programmers said there ought to be 'spaces for tabs'.\n",
      "QA Engineer walks into a bar. Orders a beer. Orders 0 beers. Orders 999999999 beers. Orders a lizard. Orders -1 beers. Orders a sfdeljknesv.\n",
      "1 . Complaining about the lack of smoking shelters, the nicotine addicted Python programmers said there ought to be 'spaces for tabs'.\n",
      "2 . Ubuntu users are apt to get this joke.\n",
      "3 . Obfuscated Reality Mappers (ORMs) can be useful database tools.\n",
      "4 . Asked to explain Unicode during an interview, Geoff went into detail about his final year university project. He was not hired.\n",
      "5 . Triumphantly, Beth removed Python 2.7 from her server in 2030. 'Finally!' she said with glee, only to see the announcement for Python 4.4.\n"
     ]
    }
   ],
   "source": [
    "import pyjokes\n",
    "\n",
    "#fetch the joke\n",
    "joke1 = pyjokes.get_joke(language='en', category='all')\n",
    "\n",
    "#display the joke\n",
    "print(joke1)\n",
    "\n",
    "#a different category\n",
    "joke2 = pyjokes.get_joke(language='en', category='neutral')\n",
    "\n",
    "#display the joke\n",
    "print(joke2)\n",
    "\n",
    "#fetch a bunch of jokes\n",
    "jokes = pyjokes.get_jokes(language='en', category='neutral')\n",
    "\n",
    "for i in range(5):\n",
    "    print(i+1,\".\",jokes[i])"
   ]
  },
  {
   "cell_type": "code",
   "execution_count": 114,
   "metadata": {},
   "outputs": [],
   "source": [
    "cat=['all']"
   ]
  },
  {
   "cell_type": "code",
   "execution_count": 115,
   "metadata": {},
   "outputs": [
    {
     "name": "stdout",
     "output_type": "stream",
     "text": [
      "100000000\n"
     ]
    }
   ],
   "source": [
    "import random\n",
    "l=[]\n",
    "\n",
    "for i in range(100000000):\n",
    "    random_cat = random.choice(cat)\n",
    "    joke=pyjokes.get_joke(language='en', category=random_cat)\n",
    "    l.append(joke)\n",
    "\n",
    "print(len(l))"
   ]
  },
  {
   "cell_type": "code",
   "execution_count": 122,
   "metadata": {},
   "outputs": [],
   "source": [
    "set1=set(l)"
   ]
  },
  {
   "cell_type": "code",
   "execution_count": 123,
   "metadata": {},
   "outputs": [
    {
     "data": {
      "text/plain": [
       "200"
      ]
     },
     "execution_count": 123,
     "metadata": {},
     "output_type": "execute_result"
    }
   ],
   "source": [
    "len(set1)"
   ]
  },
  {
   "cell_type": "code",
   "execution_count": 124,
   "metadata": {},
   "outputs": [],
   "source": [
    "l=list(set1)"
   ]
  },
  {
   "cell_type": "code",
   "execution_count": 125,
   "metadata": {},
   "outputs": [
    {
     "data": {
      "text/plain": [
       "[\"With Chuck Norris P = NP. There's no nondeterminism with Chuck Norris decisions.\",\n",
       " 'A COBOL programmer makes millions with Y2K remediation and decides to get cryogenically frozen. \"The year is 9999. You know COBOL, right?\"',\n",
       " \"Why did Microsoft name their search engine BING? Because It's Not Google.\",\n",
       " 'In C we had to code our own bugs. In C++ we can inherit them.',\n",
       " \"Chuck Norris's keyboard has the Any key.\",\n",
       " 'Asked to explain Unicode during an interview, Geoff went into detail about his final year university project. He was not hired.',\n",
       " 'How come there is no obfuscated Perl contest? Because everyone would win.',\n",
       " 'How many programmers does it take to kill a cockroach? Two: one holds, the other installs Windows on it.',\n",
       " 'Chuck Norris solved the Travelling Salesman problem in O(1) time: break salesman into N pieces; kick each piece to a different city.',\n",
       " \"Chuck Norris doesn't do Burn Down charts, he does Smack Down charts.\",\n",
       " \"A programmer was found dead in the shower. Next to their body was a bottle of shampoo with the instructions 'Lather, Rinse and Repeat'.\",\n",
       " 'The C language combines all the power of assembly language with all the ease-of-use of assembly language.',\n",
       " \"There is no Esc key on Chuck Norris' keyboard, because no one escapes Chuck Norris.\",\n",
       " 'Chuck Norris does not need to type-cast. The Chuck-Norris Compiler (CNC) sees through things. All the way down. Always.',\n",
       " \"Chuck Norris's programs never exit, they are terminated.\",\n",
       " \"Writing PHP is like peeing in the swimming pool, everyone did it, but we don't need to bring it up in public.\",\n",
       " \"Why does Waldo only wear stripes? Because he doesn't want to be spotted.\",\n",
       " 'Chuck Norris completed World of Warcraft.',\n",
       " \"Chuck Norris doesn't need an OS.\",\n",
       " 'Hardware: The part of a computer that you can kick.',\n",
       " 'Chuck Norris knows the value of NULL, and he can sort by it too.',\n",
       " 'Obfuscated Reality Mappers (ORMs) can be useful database tools.',\n",
       " 'I would tell you a joke about UDP, but you would never get it.',\n",
       " 'Chuck Norris went out of an infinite loop.',\n",
       " 'Chuck Norris can retrieve anything from /dev/null.',\n",
       " 'Chuck Norris can make a class that is both abstract and final.',\n",
       " 'A programmer walks into a foo...',\n",
       " \"Chuck Norris doesn't needs try-catch, exceptions are too afraid to raise.\",\n",
       " 'Chuck Norris does not code in cycles, he codes in strikes.',\n",
       " \"Chuck Norris's OSI network model has only one layer - Physical.\",\n",
       " \"Chuck Norris's first program was kill -9.\",\n",
       " \"3 Database Admins walked into a NoSQL bar. A little while later they walked out because they couldn't find a table.\",\n",
       " \"Every SQL statement that Chuck Norris codes has an implicit 'COMMIT' in its end.\",\n",
       " 'To Chuck Norris, everything contains a vulnerability.',\n",
       " 'The only design pattern Chuck Norris knows is the God Object Pattern.',\n",
       " 'Chuck Norris writes code that optimises itself.',\n",
       " \"Child: Dad, why does the sun rise in the east and set in the west? Dad: Son, it's working, don't touch it.\",\n",
       " \"Chuck Norris's calculator has only 3 keys: 0, 1, and NAND.\",\n",
       " 'Chuck Norris can read from an input stream.',\n",
       " \"Why don't jokes work in octal? Because 7 10 11.\",\n",
       " 'Chuck Norris once shifted a bit so hard, it ended up on a different computer.',\n",
       " \"Chuck Norris doesn't use reflection, reflection asks politely for his help.\",\n",
       " \"Why are you always smiling? That's just my... regular expression.\",\n",
       " \"Chuck Norris can unit test entire applications with a single assertion, 'it works'.\",\n",
       " 'Chuck Norris once implemented an HTTP server in a single printf call. It is now the heart of Apache webserver.',\n",
       " 'What do you call a parrot that says \"Squawk! Pieces of nine! Pieces of nine!\"? A parrot-ey error.',\n",
       " \"Chuck Norris doesn't use Oracle, he is the Oracle.\",\n",
       " 'Why do sin and tan work? Just cos.',\n",
       " \"Chuck Norris's database has only one table, 'Kick', which he drops frequently.\",\n",
       " 'How to explain the movie Inception to a programmer? When you run a VM inside another VM, inside another VM ... everything runs real slow!',\n",
       " 'Chuck Norris can install iTunes without installing Quicktime.',\n",
       " 'Chuck Norris can overwrite a locked variable.',\n",
       " \"Don't worry about tests, Chuck Norris's test cases cover your code too.\",\n",
       " 'Chuck Norris only uses global variables. He has nothing to hide.',\n",
       " \"Why did the programmer quit his job? Because he didn't get arrays.\",\n",
       " \"Why do Java programmers have to wear glasses? Because they don't see sharp.\",\n",
       " \"Pirates go 'arg!', computer pirates go 'argv!'\",\n",
       " 'What do you call a programmer from Finland? Nerdic.',\n",
       " 'Chuck Norris can dereference NULL.',\n",
       " \"Chuck Norris can't test for equality because he has no equal.\",\n",
       " 'There are two ways to write error-free programs; only the third one works.',\n",
       " \"Waiter: He's choking! Is anyone a doctor? Programmer: I'm a Vim user.\",\n",
       " 'I went to a street where the houses were numbered 8k, 16k, 32k, 64k, 128k, 256k and 512k. It was a trip down Memory Lane.',\n",
       " \"Chuck Norris doesn't sudo, the shell just knows it's him and does what it's told.\",\n",
       " 'Microsoft hold a bi-monthly internal \"productive week\" where they use Google instead of Bing.',\n",
       " \"There are II types of people: Those who understand Roman Numerals and those who don't.\",\n",
       " 'To understand recursion you must first understand recursion.',\n",
       " \"A programmer walks into a bar and orders 1.38 root beers. The bartender informs her it's a root beer float. She says 'Make it a double!'\",\n",
       " 'Chuck Norris compresses his files by doing a flying round house kick to the hard drive.',\n",
       " 'Chuck Norris does not need to know about Class Factory Pattern. He can instantiate interfaces.',\n",
       " 'Chuck Norris burst the dot com bubble.',\n",
       " \"MySpace isn't really your space, it's Chuck's (he just lets you use it).\",\n",
       " \"Chuck Norris never has to build his program to machine code. Machines have learnt to interpret Chuck Norris's code.\",\n",
       " 'There are 2 types of people: those who can extrapolate from incomplete data sets...',\n",
       " \".NET was named .NET so that it wouldn't show up in a Unix directory listing.\",\n",
       " \"Two bytes meet. The first byte asks, 'Are you ill?' The second byte replies, 'No, just feeling a bit off.'\",\n",
       " \"If you play a Windows CD backwards, you'll hear satanic chanting ... worse still, if you play it forwards, it installs Windows.\",\n",
       " 'Number of days since I have encountered an off-by-one error: 0.',\n",
       " 'Chuck Norris hosting is 101% uptime guaranteed.',\n",
       " 'Chuck Norris can write to an output stream.',\n",
       " 'The Chuck Norris Eclipse plugin made alien contact.',\n",
       " \"Chuck Norris's unit tests don't run. They die.\",\n",
       " \"How do you know whether a person is a Vim user? Don't worry, they'll tell you.\",\n",
       " \"What does 'Emacs' stand for? 'Exclusively used by middle aged computer scientists.'\",\n",
       " \"When Chuck Norris breaks the build, you can't fix it, because there is not a single line of code left.\",\n",
       " 'Why do programmers confuse Halloween with Christmas? Because OCT 31 == DEC 25.',\n",
       " \"Chuck Norris's log statements are always at the FATAL level.\",\n",
       " 'Real programmers can write assembly code in any language.',\n",
       " \"What is Benoit B. Mandelbrot's middle name? Benoit B. Mandelbrot.\",\n",
       " \"No one has ever spoken during review of Chuck Norris' code and lived to tell the tale.\",\n",
       " \"What did the Java code say to the C code? A: You've got no class.\",\n",
       " \"Chuck Norris doesn't use a GUI, he prefers COMMAND line.\",\n",
       " \"A diff between your code and Chuck Norris's is infinite.\",\n",
       " 'Software salesmen and used-car salesmen differ in that the latter know when they are lying.',\n",
       " 'Everyone likes Chuck Norris on Facebook, whether they choose to or not.',\n",
       " 'Java: Write once, run away.',\n",
       " \"When Chuck Norris throws exceptions, it's across the room.\",\n",
       " \"An SQL query goes into a bar, walks up to two tables and asks, 'Can I join you?'\",\n",
       " 'All browsers support the hex definitions #chuck and #norris for the colours black and blue.',\n",
       " \"Two threads walk into a bar. The barkeeper looks up and yells, 'Hey, I want don't any conditions race like time last!'\",\n",
       " 'Code runs faster when Chuck Norris watches it.',\n",
       " 'Chuck Norris finished World of Warcraft.',\n",
       " 'An SEO expert walks into a bar, bars, pub, public house, Irish pub, tavern, bartender, beer, liquor, wine, alcohol, spirits...',\n",
       " \"Chuck Norris's Internet connection is faster upstream than downstream because even data has more incentive to run from him than to him.\",\n",
       " \"There are 10 types of people: those who understand trinary, those who don't, and those who have never heard of it.\",\n",
       " 'A good programmer is someone who always looks both ways before crossing a one-way street.',\n",
       " 'Speed dating is useless. 5 minutes is not enough to properly explain the benefits of the Unix philosophy.',\n",
       " 'Chuck Norris writes directly in binary. He then writes the source code as documentation for other programmers.',\n",
       " 'What do you get when you cross a cat and a dog? Cat dog sin theta.',\n",
       " \"You can't follow Chuck Norris on Twitter, because he follows you.\",\n",
       " \"If loving you is ROM I don't wanna read write.\",\n",
       " 'Chuck Norris can access the database from the UI.',\n",
       " 'Chuck Norris insists on strongly-typed programming languages.',\n",
       " 'Optimist: The glass is half full. Pessimist: The glass is half empty. Programmer: The glass is twice as large as necessary.',\n",
       " 'Chuck Norris can solve the Towers of Hanoi in one move.',\n",
       " 'How do you generate a random string? Put a first year Computer Science student in Vim and ask them to save and exit.',\n",
       " \"I had a problem so I thought I'd use Java. Now I have a ProblemFactory.\",\n",
       " 'For Chuck Norris, NP-Hard = O(1).',\n",
       " \"If you try to kill -9 Chuck Norris's programs, it backfires.\",\n",
       " \"Each hair in Chuck Norris's beard contributes to make the world's largest DDOS.\",\n",
       " 'A product manager walks into a bar, asks for drink. Bartender says no, but will consider adding later.',\n",
       " 'No one has ever pair-programmed with Chuck Norris and lived to tell the tale.',\n",
       " 'If Chuck Norris writes code with bugs, the bugs fix themselves.',\n",
       " 'Chuck Norris can binary search unsorted data.',\n",
       " \"My friend's in a band called '1023 Megabytes'... They haven't got a gig yet!\",\n",
       " \"What's the object-oriented way to become wealthy? Inheritance.\",\n",
       " 'There are 10 types of people: those who understand hexadecimal and 15 others.',\n",
       " 'Chuck Norris can delete the Recycling Bin.',\n",
       " \"Chuck Norris doesn't pair program.\",\n",
       " \"['hip', 'hip'] (hip hip array!)\",\n",
       " 'Finding a good PHP developer is like looking for a needle in a haystack. Or is it a hackstack in a needle?',\n",
       " 'The Chuck Norris protocol design method has no status, requests or responses, only commands.',\n",
       " 'QAs consist of 55% water, 30% blood and 15% Jira tickets.',\n",
       " 'How many programmers does it take to change a lightbulb? None, they just make darkness a standard.',\n",
       " 'ASCII stupid question, get a stupid ANSI.',\n",
       " \"A programmer had a problem. He thought to himself, 'I know, I'll solve it with threads!'. has Now problems. two he\",\n",
       " 'Sympathy for the Devil is really just about being nice to QAs.',\n",
       " \"I suggested holding a 'Python Object Oriented Programming Seminar', but the acronym was unpopular.\",\n",
       " 'Chuck Norris types with one finger. He points it at the keyboard and the keyboard does the rest.',\n",
       " 'Chuck Norris causes the Blue Screen of Death.',\n",
       " 'All arrays Chuck Norris declares are of infinite size, because Chuck Norris knows no bounds.',\n",
       " 'A QA engineer walks into a bar. Runs into a bar. Crawls into a bar. Dances into a bar. Tiptoes into a bar. Rams a bar. Jumps into a bar.',\n",
       " 'If you put a million monkeys at a million keyboards, one of them will eventually write a Java program. The rest of them will write Perl.',\n",
       " \"There are 10 types of people: those who understand binary, those who don't, and those who were expecting this joke to be in trinary.\",\n",
       " 'Chuck Norris knows the last digit of Pi.',\n",
       " \"Chuck Norris's keyboard doesn't have a Ctrl key because nothing controls Chuck Norris.\",\n",
       " 'Ubuntu users are apt to get this joke.',\n",
       " \"Chuck Norris doesn't bug hunt as that signifies a probability of failure, he goes bug killing.\",\n",
       " 'Chuck Norris can spawn threads that complete before they are started.',\n",
       " \"Chuck Norris's beard can type 140 words per minute.\",\n",
       " 'Chuck Norris performs infinite loops in under 4 seconds.',\n",
       " 'How many Prolog programmers does it take to change a lightbulb? false.',\n",
       " \"Triumphantly, Beth removed Python 2.7 from her server in 2030. 'Finally!' she said with glee, only to see the announcement for Python 4.4.\",\n",
       " \"Old C programmers don't die, they're just cast into void.\",\n",
       " 'Chuck Norris can overflow your stack just by looking at it.',\n",
       " 'The class object inherits from Chuck Norris.',\n",
       " \"Unix is user friendly. It's just very particular about who its friends are.\",\n",
       " 'Chuck Norris can install a 64-bit operating system on 32-bit machines.',\n",
       " \"'Knock, knock.' 'Who's there?' ... very long pause ... 'Java.'\",\n",
       " 'Software developers like to solve problems. If there are no problems handily available, they will create their own.',\n",
       " \"Schrodinger's attitude to web development: If I don't look at it in Internet Explorer then there's a chance it looks fine.\",\n",
       " \"!false, (It's funny because it's true)\",\n",
       " 'Waiter: Would you like coffee or tea? Programmer: Yes.',\n",
       " \"What do you mean 911 is only for emergencies? I've got a merge conflict.\",\n",
       " 'Chuck Norris can write infinitely recursive functions and have them return.',\n",
       " \"Chuck Norris doesn't have disk latency because the hard drive knows to hurry the hell up, or else.\",\n",
       " 'Chuck Norris can access private methods.',\n",
       " \"Chuck Norris doesn't need garbage collection because he doesn't call .Dispose(), he calls .DropKick().\",\n",
       " 'There are only two hard problems in Computer Science: cache invalidation, naming things and off-by-one-errors.',\n",
       " \"Eight bytes walk into a bar. The bartender asks, 'Can I get you anything?' 'Yeah,' replies the bytes. 'Make us a double.'\",\n",
       " 'QA Engineer walks into a bar. Orders a beer. Orders 0 beers. Orders 999999999 beers. Orders a lizard. Orders -1 beers. Orders a sfdeljknesv.',\n",
       " \"'It works on my machine' always holds true for Chuck Norris.\",\n",
       " \"How many QAs does it take to change a lightbulb? They noticed that the room was dark. They don't fix problems, they find them.\",\n",
       " \"Chuck Norris's programs occupy 150% of CPU, even when they are not running.\",\n",
       " \"I've been using Vim for a long time now, mainly because I can't figure out how to exit.\",\n",
       " \"Complaining about the lack of smoking shelters, the nicotine addicted Python programmers said there ought to be 'spaces for tabs'.\",\n",
       " 'Chuck Norris can instantiate an abstract class.',\n",
       " 'A programmer crashes a car at the bottom of a hill, a bystander asks what happened, he says \"No idea. Let\\'s push it back up and try again\".',\n",
       " \"Chuck Norris's programs do not accept input.\",\n",
       " \"Chuck Norris doesn't need a debugger, he just stares at the code until it confesses.\",\n",
       " 'No statement can catch the ChuckNorrisException.',\n",
       " \"Chuck Norris's programs can pass the Turing Test by staring at the interrogator.\",\n",
       " \"Chuck Norris doesn't use REST, he waits.\",\n",
       " 'Project managers never ask Chuck Norris for estimations.',\n",
       " 'Chuck Norris can compile syntax errors.',\n",
       " 'Chick Norris solved the halting problem.',\n",
       " 'What do you call eight hobbits? A hobbyte.',\n",
       " 'What does pyjokes have in common with Adobe Flash? It gets updated all the time, but never gets any better.',\n",
       " 'Chuck Norris could use anything in java.util.* to kill you, including the javadocs.',\n",
       " \"Chuck Norris doesn't need to use AJAX because pages are too afraid to postback anyways.\",\n",
       " \"Why did the QA cross the road? To ruin everyone's day.\",\n",
       " 'Chuck Norris can write multi-threaded applications with a single thread.',\n",
       " 'When your hammer is C++, everything begins to look like a thumb.',\n",
       " \"There are 10 types of people: those who understand binary and those who don't.\",\n",
       " \"How many programmers does it take to change a lightbulb? None, that's a hardware problem.\",\n",
       " \"Chuck Norris doesn't use web standards as the web will conform to him.\",\n",
       " 'Number of days since I have encountered an array index error: -1.',\n",
       " \"Q: What is Chuck Norris's favorite Javascript framework? A: Knockout.js.\",\n",
       " 'The best thing about a Boolean is even if you are wrong, you are only off by a bit.',\n",
       " 'Chuck Norris is the ultimate mutex, all threads fear him.']"
      ]
     },
     "execution_count": 125,
     "metadata": {},
     "output_type": "execute_result"
    }
   ],
   "source": [
    "l"
   ]
  },
  {
   "cell_type": "code",
   "execution_count": null,
   "metadata": {},
   "outputs": [],
   "source": [
    "list(enumerate())"
   ]
  },
  {
   "cell_type": "code",
   "execution_count": 120,
   "metadata": {},
   "outputs": [],
   "source": [
    "df = pd.DataFrame(l)\n",
    "csv_data = df.to_csv(index=False)"
   ]
  },
  {
   "cell_type": "code",
   "execution_count": 121,
   "metadata": {},
   "outputs": [
    {
     "data": {
      "text/html": [
       "<div>\n",
       "<style scoped>\n",
       "    .dataframe tbody tr th:only-of-type {\n",
       "        vertical-align: middle;\n",
       "    }\n",
       "\n",
       "    .dataframe tbody tr th {\n",
       "        vertical-align: top;\n",
       "    }\n",
       "\n",
       "    .dataframe thead th {\n",
       "        text-align: right;\n",
       "    }\n",
       "</style>\n",
       "<table border=\"1\" class=\"dataframe\">\n",
       "  <thead>\n",
       "    <tr style=\"text-align: right;\">\n",
       "      <th></th>\n",
       "      <th>0</th>\n",
       "    </tr>\n",
       "  </thead>\n",
       "  <tbody>\n",
       "    <tr>\n",
       "      <th>0</th>\n",
       "      <td>With Chuck Norris P = NP. There's no nondeterm...</td>\n",
       "    </tr>\n",
       "    <tr>\n",
       "      <th>1</th>\n",
       "      <td>A COBOL programmer makes millions with Y2K rem...</td>\n",
       "    </tr>\n",
       "    <tr>\n",
       "      <th>2</th>\n",
       "      <td>In C we had to code our own bugs. In C++ we ca...</td>\n",
       "    </tr>\n",
       "    <tr>\n",
       "      <th>3</th>\n",
       "      <td>Why did Microsoft name their search engine BIN...</td>\n",
       "    </tr>\n",
       "    <tr>\n",
       "      <th>4</th>\n",
       "      <td>Chuck Norris's keyboard has the Any key.</td>\n",
       "    </tr>\n",
       "  </tbody>\n",
       "</table>\n",
       "</div>"
      ],
      "text/plain": [
       "                                                   0\n",
       "0  With Chuck Norris P = NP. There's no nondeterm...\n",
       "1  A COBOL programmer makes millions with Y2K rem...\n",
       "2  In C we had to code our own bugs. In C++ we ca...\n",
       "3  Why did Microsoft name their search engine BIN...\n",
       "4           Chuck Norris's keyboard has the Any key."
      ]
     },
     "execution_count": 121,
     "metadata": {},
     "output_type": "execute_result"
    }
   ],
   "source": [
    "df.head()"
   ]
  },
  {
   "cell_type": "code",
   "execution_count": null,
   "metadata": {},
   "outputs": [],
   "source": []
  },
  {
   "cell_type": "code",
   "execution_count": null,
   "metadata": {},
   "outputs": [],
   "source": []
  },
  {
   "cell_type": "code",
   "execution_count": null,
   "metadata": {},
   "outputs": [],
   "source": []
  },
  {
   "cell_type": "code",
   "execution_count": null,
   "metadata": {},
   "outputs": [],
   "source": []
  }
 ],
 "metadata": {
  "kernelspec": {
   "display_name": "Python 3",
   "language": "python",
   "name": "python3"
  },
  "language_info": {
   "codemirror_mode": {
    "name": "ipython",
    "version": 3
   },
   "file_extension": ".py",
   "mimetype": "text/x-python",
   "name": "python",
   "nbconvert_exporter": "python",
   "pygments_lexer": "ipython3",
   "version": "3.8.5"
  }
 },
 "nbformat": 4,
 "nbformat_minor": 4
}
